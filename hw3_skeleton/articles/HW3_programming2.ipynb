{
 "cells": [
  {
   "cell_type": "code",
   "execution_count": 203,
   "metadata": {},
   "outputs": [
    {
     "name": "stdout",
     "output_type": "stream",
     "text": [
      "0.4\n",
      "0.8\n"
     ]
    },
    {
     "name": "stderr",
     "output_type": "stream",
     "text": [
      "/Users/keyaoan/anaconda3/lib/python3.7/site-packages/sklearn/svm/base.py:196: FutureWarning: The default value of gamma will change from 'auto' to 'scale' in version 0.22 to account better for unscaled features. Set gamma explicitly to 'auto' or 'scale' to avoid this warning.\n",
      "  \"avoid this warning.\", FutureWarning)\n"
     ]
    },
    {
     "name": "stdout",
     "output_type": "stream",
     "text": [
      "['author_23' 'author_23' 'author_23' 'author_23' 'author_23' 'author_12'\n",
      " 'author_16' 'author_12' 'author_12' 'author_12' 'author_15' 'author_15'\n",
      " 'author_15' 'author_5' 'author_15' 'author_14' 'author_19' 'author_12'\n",
      " 'author_14' 'author_14' 'author_19' 'author_13' 'author_13' 'author_13'\n",
      " 'author_5' 'author_22' 'author_22' 'author_22' 'author_22' 'author_22'\n",
      " 'author_2' 'author_2' 'author_2' 'author_2' 'author_2' 'author_5'\n",
      " 'author_12' 'author_5' 'author_11' 'author_5' 'author_4' 'author_4'\n",
      " 'author_4' 'author_4' 'author_4' 'author_21' 'author_12' 'author_5'\n",
      " 'author_1' 'author_1' 'author_18' 'author_18' 'author_12' 'author_1'\n",
      " 'author_15' 'author_20' 'author_20' 'author_20' 'author_20' 'author_20'\n",
      " 'author_12' 'author_16' 'author_16' 'author_12' 'author_19' 'author_12'\n",
      " 'author_2' 'author_11' 'author_11' 'author_12' 'author_10' 'author_10'\n",
      " 'author_10' 'author_10' 'author_10' 'author_17' 'author_17' 'author_17'\n",
      " 'author_17' 'author_17' 'author_21' 'author_21' 'author_21' 'author_21'\n",
      " 'author_21' 'author_5' 'author_19' 'author_19' 'author_19' 'author_12'\n",
      " 'author_8' 'author_14' 'author_12' 'author_8' 'author_8' 'author_1'\n",
      " 'author_14' 'author_1' 'author_9' 'author_6' 'author_1' 'author_5'\n",
      " 'author_1' 'author_1' 'author_1' 'author_7' 'author_1' 'author_7'\n",
      " 'author_1' 'author_5' 'author_9' 'author_9' 'author_1' 'author_1'\n",
      " 'author_9']\n",
      "['author_23', 'author_23', 'author_23', 'author_23', 'author_23', 'author_12', 'author_12', 'author_12', 'author_12', 'author_12', 'author_15', 'author_15', 'author_15', 'author_15', 'author_15', 'author_14', 'author_14', 'author_14', 'author_14', 'author_14', 'author_13', 'author_13', 'author_13', 'author_13', 'author_13', 'author_22', 'author_22', 'author_22', 'author_22', 'author_22', 'author_2', 'author_2', 'author_2', 'author_2', 'author_2', 'author_5', 'author_5', 'author_5', 'author_5', 'author_5', 'author_4', 'author_4', 'author_4', 'author_4', 'author_4', 'author_3', 'author_3', 'author_3', 'author_3', 'author_3', 'author_18', 'author_18', 'author_18', 'author_18', 'author_18', 'author_20', 'author_20', 'author_20', 'author_20', 'author_20', 'author_16', 'author_16', 'author_16', 'author_16', 'author_16', 'author_11', 'author_11', 'author_11', 'author_11', 'author_11', 'author_10', 'author_10', 'author_10', 'author_10', 'author_10', 'author_17', 'author_17', 'author_17', 'author_17', 'author_17', 'author_21', 'author_21', 'author_21', 'author_21', 'author_21', 'author_19', 'author_19', 'author_19', 'author_19', 'author_19', 'author_8', 'author_8', 'author_8', 'author_8', 'author_8', 'author_6', 'author_6', 'author_6', 'author_6', 'author_6', 'author_1', 'author_1', 'author_1', 'author_1', 'author_1', 'author_7', 'author_7', 'author_7', 'author_7', 'author_7', 'author_9', 'author_9', 'author_9', 'author_9', 'author_9']\n",
      "0.6869565217391305\n"
     ]
    },
    {
     "name": "stderr",
     "output_type": "stream",
     "text": [
      "/Users/keyaoan/anaconda3/lib/python3.7/site-packages/sklearn/svm/base.py:196: FutureWarning: The default value of gamma will change from 'auto' to 'scale' in version 0.22 to account better for unscaled features. Set gamma explicitly to 'auto' or 'scale' to avoid this warning.\n",
      "  \"avoid this warning.\", FutureWarning)\n"
     ]
    },
    {
     "ename": "ValueError",
     "evalue": "'cosine similarity' is not in list",
     "output_type": "error",
     "traceback": [
      "\u001b[0;31m---------------------------------------------------------------------------\u001b[0m",
      "\u001b[0;31mValueError\u001b[0m                                Traceback (most recent call last)",
      "\u001b[0;32m<ipython-input-203-bb89ca81f085>\u001b[0m in \u001b[0;36m<module>\u001b[0;34m\u001b[0m\n\u001b[1;32m     97\u001b[0m \u001b[0;34m\u001b[0m\u001b[0m\n\u001b[1;32m     98\u001b[0m \u001b[0;32mif\u001b[0m \u001b[0m__name__\u001b[0m \u001b[0;34m==\u001b[0m \u001b[0;34m'__main__'\u001b[0m\u001b[0;34m:\u001b[0m\u001b[0;34m\u001b[0m\u001b[0;34m\u001b[0m\u001b[0m\n\u001b[0;32m---> 99\u001b[0;31m     \u001b[0mmain\u001b[0m\u001b[0;34m(\u001b[0m\u001b[0;34m)\u001b[0m\u001b[0;34m\u001b[0m\u001b[0;34m\u001b[0m\u001b[0m\n\u001b[0m",
      "\u001b[0;32m<ipython-input-203-bb89ca81f085>\u001b[0m in \u001b[0;36mmain\u001b[0;34m()\u001b[0m\n\u001b[1;32m     84\u001b[0m     \u001b[0mprint\u001b[0m\u001b[0;34m(\u001b[0m\u001b[0maccuracy_TF_SVN_rbf\u001b[0m\u001b[0;34m)\u001b[0m\u001b[0;34m\u001b[0m\u001b[0;34m\u001b[0m\u001b[0m\n\u001b[1;32m     85\u001b[0m     \u001b[0;31m#SVM-Cosine Similarity\u001b[0m\u001b[0;34m\u001b[0m\u001b[0;34m\u001b[0m\u001b[0;34m\u001b[0m\u001b[0m\n\u001b[0;32m---> 86\u001b[0;31m     \u001b[0mclf\u001b[0m \u001b[0;34m=\u001b[0m \u001b[0msvm\u001b[0m\u001b[0;34m.\u001b[0m\u001b[0mSVC\u001b[0m\u001b[0;34m(\u001b[0m\u001b[0mkernel\u001b[0m\u001b[0;34m=\u001b[0m\u001b[0;34m'cosine similarity'\u001b[0m\u001b[0;34m)\u001b[0m\u001b[0;34m.\u001b[0m\u001b[0mfit\u001b[0m\u001b[0;34m(\u001b[0m\u001b[0mX_train_TF\u001b[0m\u001b[0;34m,\u001b[0m \u001b[0my\u001b[0m\u001b[0;34m)\u001b[0m\u001b[0;34m\u001b[0m\u001b[0;34m\u001b[0m\u001b[0m\n\u001b[0m\u001b[1;32m     87\u001b[0m     \u001b[0my_pre\u001b[0m \u001b[0;34m=\u001b[0m \u001b[0mclf\u001b[0m\u001b[0;34m.\u001b[0m\u001b[0mpredict\u001b[0m\u001b[0;34m(\u001b[0m\u001b[0mX_test_TF\u001b[0m\u001b[0;34m)\u001b[0m\u001b[0;34m\u001b[0m\u001b[0;34m\u001b[0m\u001b[0m\n\u001b[1;32m     88\u001b[0m     \u001b[0maccuracy_TF_SVN_Cosine_S\u001b[0m \u001b[0;34m=\u001b[0m \u001b[0mcompute_accuracy\u001b[0m\u001b[0;34m(\u001b[0m\u001b[0my_pre\u001b[0m\u001b[0;34m,\u001b[0m\u001b[0my_test\u001b[0m\u001b[0;34m)\u001b[0m\u001b[0;34m\u001b[0m\u001b[0;34m\u001b[0m\u001b[0m\n",
      "\u001b[0;32m~/anaconda3/lib/python3.7/site-packages/sklearn/svm/base.py\u001b[0m in \u001b[0;36mfit\u001b[0;34m(self, X, y, sample_weight)\u001b[0m\n\u001b[1;32m    210\u001b[0m \u001b[0;34m\u001b[0m\u001b[0m\n\u001b[1;32m    211\u001b[0m         \u001b[0mseed\u001b[0m \u001b[0;34m=\u001b[0m \u001b[0mrnd\u001b[0m\u001b[0;34m.\u001b[0m\u001b[0mrandint\u001b[0m\u001b[0;34m(\u001b[0m\u001b[0mnp\u001b[0m\u001b[0;34m.\u001b[0m\u001b[0miinfo\u001b[0m\u001b[0;34m(\u001b[0m\u001b[0;34m'i'\u001b[0m\u001b[0;34m)\u001b[0m\u001b[0;34m.\u001b[0m\u001b[0mmax\u001b[0m\u001b[0;34m)\u001b[0m\u001b[0;34m\u001b[0m\u001b[0;34m\u001b[0m\u001b[0m\n\u001b[0;32m--> 212\u001b[0;31m         \u001b[0mfit\u001b[0m\u001b[0;34m(\u001b[0m\u001b[0mX\u001b[0m\u001b[0;34m,\u001b[0m \u001b[0my\u001b[0m\u001b[0;34m,\u001b[0m \u001b[0msample_weight\u001b[0m\u001b[0;34m,\u001b[0m \u001b[0msolver_type\u001b[0m\u001b[0;34m,\u001b[0m \u001b[0mkernel\u001b[0m\u001b[0;34m,\u001b[0m \u001b[0mrandom_seed\u001b[0m\u001b[0;34m=\u001b[0m\u001b[0mseed\u001b[0m\u001b[0;34m)\u001b[0m\u001b[0;34m\u001b[0m\u001b[0;34m\u001b[0m\u001b[0m\n\u001b[0m\u001b[1;32m    213\u001b[0m         \u001b[0;31m# see comment on the other call to np.iinfo in this file\u001b[0m\u001b[0;34m\u001b[0m\u001b[0;34m\u001b[0m\u001b[0;34m\u001b[0m\u001b[0m\n\u001b[1;32m    214\u001b[0m \u001b[0;34m\u001b[0m\u001b[0m\n",
      "\u001b[0;32m~/anaconda3/lib/python3.7/site-packages/sklearn/svm/base.py\u001b[0m in \u001b[0;36m_dense_fit\u001b[0;34m(self, X, y, sample_weight, solver_type, kernel, random_seed)\u001b[0m\n\u001b[1;32m    269\u001b[0m                 \u001b[0mcache_size\u001b[0m\u001b[0;34m=\u001b[0m\u001b[0mself\u001b[0m\u001b[0;34m.\u001b[0m\u001b[0mcache_size\u001b[0m\u001b[0;34m,\u001b[0m \u001b[0mcoef0\u001b[0m\u001b[0;34m=\u001b[0m\u001b[0mself\u001b[0m\u001b[0;34m.\u001b[0m\u001b[0mcoef0\u001b[0m\u001b[0;34m,\u001b[0m\u001b[0;34m\u001b[0m\u001b[0;34m\u001b[0m\u001b[0m\n\u001b[1;32m    270\u001b[0m                 \u001b[0mgamma\u001b[0m\u001b[0;34m=\u001b[0m\u001b[0mself\u001b[0m\u001b[0;34m.\u001b[0m\u001b[0m_gamma\u001b[0m\u001b[0;34m,\u001b[0m \u001b[0mepsilon\u001b[0m\u001b[0;34m=\u001b[0m\u001b[0mself\u001b[0m\u001b[0;34m.\u001b[0m\u001b[0mepsilon\u001b[0m\u001b[0;34m,\u001b[0m\u001b[0;34m\u001b[0m\u001b[0;34m\u001b[0m\u001b[0m\n\u001b[0;32m--> 271\u001b[0;31m                 max_iter=self.max_iter, random_seed=random_seed)\n\u001b[0m\u001b[1;32m    272\u001b[0m \u001b[0;34m\u001b[0m\u001b[0m\n\u001b[1;32m    273\u001b[0m         \u001b[0mself\u001b[0m\u001b[0;34m.\u001b[0m\u001b[0m_warn_from_fit_status\u001b[0m\u001b[0;34m(\u001b[0m\u001b[0;34m)\u001b[0m\u001b[0;34m\u001b[0m\u001b[0;34m\u001b[0m\u001b[0m\n",
      "\u001b[0;32msklearn/svm/libsvm.pyx\u001b[0m in \u001b[0;36msklearn.svm.libsvm.fit\u001b[0;34m()\u001b[0m\n",
      "\u001b[0;31mValueError\u001b[0m: 'cosine similarity' is not in list"
     ]
    }
   ],
   "source": [
    "import nltk\n",
    "import os\n",
    "from sklearn.feature_extraction.text import CountVectorizer\n",
    "from sklearn.feature_extraction.text import TfidfVectorizer\n",
    "from sklearn.naive_bayes import MultinomialNB\n",
    "from sklearn.naive_bayes import GaussianNB\n",
    "from sklearn import svm\n",
    "\n",
    "def iterbrowse(path):\n",
    "    for home, dirs, files in os.walk(path):\n",
    "        \n",
    "        for filename in files:\n",
    "            yield os.path.join(home, filename)\n",
    "\n",
    "def open_file(package):\n",
    "    y=[]\n",
    "    fullname_lst=[]\n",
    "    articles = []\n",
    "    for fullname in iterbrowse(package):\n",
    "        d=os.path.dirname(fullname)\n",
    "        filename=os.path.basename(fullname)\n",
    "        fullname_lst.append(fullname)\n",
    "        if package == 'train':\n",
    "            y.append(d[6:])\n",
    "        else:\n",
    "            y.append(d[5:])\n",
    "    for i in fullname_lst[1:]:\n",
    "        with open(i) as f:\n",
    "            lines= f.readlines()\n",
    "            articles.extend(lines)\n",
    "    return(articles,y[1:])\n",
    "\n",
    "def CV_MNB(lst,y,lst_test,y_test):\n",
    "    cv_train = CountVectorizer()#change parameters here\n",
    "    cv_train_fit=cv_train.fit_transform(lst)\n",
    "    v = cv_train.vocabulary_\n",
    "    X_train= cv_train_fit.toarray()\n",
    "    cv_test = CountVectorizer(vocabulary = v)#change parameters here\n",
    "    cv_fit_test=cv_test.fit_transform(lst_test)\n",
    "    X_test= cv_fit_test.toarray()\n",
    "    clf = MultinomialNB().fit(X_train, y)\n",
    "    y_pre = clf.predict(X_test)\n",
    "    return(compute_accuracy(y_pre,y_test))\n",
    "\n",
    "def TF_IDF(lst,lst_test):\n",
    "    cv_train = TfidfVectorizer()#change parameters here\n",
    "    cv_train_fit=cv_train.fit_transform(lst)\n",
    "    v = cv_train.vocabulary_\n",
    "    X_train= cv_train_fit.toarray()\n",
    "    cv_test = TfidfVectorizer(vocabulary = v)#change parameters here\n",
    "    cv_fit_test=cv_test.fit_transform(lst_test)\n",
    "    X_test= cv_fit_test.toarray()\n",
    "    return(X_train, X_test)\n",
    "\n",
    "\n",
    "\n",
    "def compute_accuracy(y_pre,y_test):\n",
    "    correct = 0\n",
    "    for i in range(0,115):\n",
    "        if y_test[i] == y_pre[i]:\n",
    "            correct +=1\n",
    "    accuracy = correct / len(y_test)\n",
    "    return(accuracy)\n",
    "\n",
    "    \n",
    "def main():\n",
    "    lst,y = open_file('train')\n",
    "    lst_test,y_test = open_file('test')\n",
    "    #CV---MNB\n",
    "    accuracy_CV = CV_MNB(lst,y,lst_test,y_test)\n",
    "    print(accuracy_CV)\n",
    "    X_train_TF,X_test_TF = TF_IDF(lst,lst_test)\n",
    "    #SVM-Linear Kernel\n",
    "    clf = svm.SVC(kernel='linear').fit(X_train_TF, y)\n",
    "    y_pre = clf.predict(X_test_TF)\n",
    "    accuracy_TF_SVN_linear = compute_accuracy(y_pre,y_test)\n",
    "    print(accuracy_TF_SVN_linear)\n",
    "    #SVM-RBF Kernel\n",
    "    clf = svm.SVC(kernel='rbf').fit(X_train_TF, y)\n",
    "    y_pre = clf.predict(X_test_TF)\n",
    "    print(y_pre)\n",
    "    print(y_test)\n",
    "    accuracy_TF_SVN_rbf= compute_accuracy(y_pre,y_test)\n",
    "    print(accuracy_TF_SVN_rbf)\n",
    "    #SVM-Cosine Similarity\n",
    "    clf = svm.SVC(kernel='cosine similarity').fit(X_train_TF, y)\n",
    "    y_pre = clf.predict(X_test_TF)\n",
    "    accuracy_TF_SVN_Cosine_S = compute_accuracy(y_pre,y_test)\n",
    "    print(accuracy_TF_SVN_Cosine_S) \n",
    "    #Gaussian Naive Bayes\n",
    "    clf_GaussianNB = GaussianNB().fit(X_train_TF, y)\n",
    "    y_pre_GaussianNB = clf_GaussianNB.predict(X_test_TF)\n",
    "    accuracy_TF_GaussianNB = compute_accuracy(y_pre_GaussianNB,y_test)\n",
    "    print(accuracy_TF_GaussianNB)\n",
    "    #Multinomial Logistic Regression\n",
    "    \n",
    "\n",
    "if __name__ == '__main__':\n",
    "    main()"
   ]
  },
  {
   "cell_type": "code",
   "execution_count": 205,
   "metadata": {},
   "outputs": [
    {
     "name": "stdout",
     "output_type": "stream",
     "text": [
      "A business that makes nothing but money is a poor business . urlLink Henry Ford I dunno , is this business exploding or dying a slow , painful death ? Just surfed in this site urlLink http : //formerdiamond.typepad.com/formerdiamond/ and it said : In the mid 90 ’ s the company said the “ business ” had about 7 billion dollars in retail sales . If I am not mistaken that figure , which today includes all of the Alticor business , is in the $ 4.5 billion range . Well , maybe ! One can make some people fool all the times , and all people fool some of the times , but nobody can make all people fool all the times ! '' \n"
     ]
    }
   ],
   "source": [
    "all_the_text = open('train/author_4/10.txt').read()\n",
    "print(all_the_text)"
   ]
  },
  {
   "cell_type": "code",
   "execution_count": null,
   "metadata": {},
   "outputs": [],
   "source": []
  }
 ],
 "metadata": {
  "kernelspec": {
   "display_name": "Python 3",
   "language": "python",
   "name": "python3"
  },
  "language_info": {
   "codemirror_mode": {
    "name": "ipython",
    "version": 3
   },
   "file_extension": ".py",
   "mimetype": "text/x-python",
   "name": "python",
   "nbconvert_exporter": "python",
   "pygments_lexer": "ipython3",
   "version": "3.6.5"
  }
 },
 "nbformat": 4,
 "nbformat_minor": 2
}
