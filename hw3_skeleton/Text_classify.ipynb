{
 "cells": [
  {
   "cell_type": "code",
   "execution_count": 1,
   "metadata": {},
   "outputs": [
    {
     "name": "stderr",
     "output_type": "stream",
     "text": [
      "C:\\Users\\dongx\\Anaconda3\\lib\\site-packages\\sklearn\\cross_validation.py:41: DeprecationWarning: This module was deprecated in version 0.18 in favor of the model_selection module into which all the refactored classes and functions are moved. Also note that the interface of the new CV iterators are different from that of this module. This module will be removed in 0.20.\n",
      "  \"This module will be removed in 0.20.\", DeprecationWarning)\n"
     ]
    }
   ],
   "source": [
    "import os\n",
    "from sklearn.feature_extraction.text import CountVectorizer\n",
    "from sklearn.feature_extraction.text import TfidfVectorizer\n",
    "from sklearn.naive_bayes import MultinomialNB\n",
    "from sklearn.naive_bayes import GaussianNB\n",
    "from sklearn import metrics\n",
    "from sklearn.cross_validation import train_test_split\n",
    "import random\n",
    "from sklearn.feature_extraction.text import TfidfVectorizer\n",
    "from sklearn.svm import SVC"
   ]
  },
  {
   "cell_type": "code",
   "execution_count": 2,
   "metadata": {},
   "outputs": [
    {
     "name": "stdout",
     "output_type": "stream",
     "text": [
      "345\n",
      "345\n"
     ]
    }
   ],
   "source": [
    "s = []\n",
    "y = []\n",
    "for i in range(1,24):\n",
    "    path = 'articles/train/author_'+str(i)\n",
    "    files = os.listdir(path)\n",
    "    for file in files:\n",
    "        file_path = path+\"/\"+file\n",
    "        y.append('author_'+str(i))\n",
    "        all_the_text = open(file_path, encoding='gb18030', errors='ignore').read()\n",
    "        s.append(all_the_text)\n",
    "cc = list(zip(s, y))\n",
    "random.shuffle(cc)\n",
    "s[:], y[:] = zip(*cc)\n",
    "print(len(s))\n",
    "print(len(y))\n",
    "s_test = []\n",
    "y_test = []\n",
    "for i in range(1,24):\n",
    "    path = 'articles/test/author_'+str(i)\n",
    "    files = os.listdir(path)\n",
    "    for file in files:\n",
    "        file_path = path+\"/\"+file\n",
    "        y_test.append('author_'+str(i))\n",
    "        all_the_text = open(file_path, encoding='gb18030', errors='ignore').read()\n",
    "        s_test.append(all_the_text)"
   ]
  },
  {
   "cell_type": "code",
   "execution_count": 8,
   "metadata": {},
   "outputs": [
    {
     "name": "stdout",
     "output_type": "stream",
     "text": [
      "(276, 1000) 276\n",
      "0.5797101449275363 0.5180650037792895 0.4722222222222222 0.5689095928226363\n"
     ]
    },
    {
     "name": "stderr",
     "output_type": "stream",
     "text": [
      "C:\\Users\\dongx\\Anaconda3\\lib\\site-packages\\sklearn\\metrics\\classification.py:1135: UndefinedMetricWarning: Precision is ill-defined and being set to 0.0 in labels with no predicted samples.\n",
      "  'precision', 'predicted', average, warn_for)\n",
      "C:\\Users\\dongx\\Anaconda3\\lib\\site-packages\\sklearn\\metrics\\classification.py:1137: UndefinedMetricWarning: Recall is ill-defined and being set to 0.0 in labels with no true samples.\n",
      "  'recall', 'true', average, warn_for)\n",
      "C:\\Users\\dongx\\Anaconda3\\lib\\site-packages\\sklearn\\metrics\\classification.py:1135: UndefinedMetricWarning: F-score is ill-defined and being set to 0.0 in labels with no predicted samples.\n",
      "  'precision', 'predicted', average, warn_for)\n",
      "C:\\Users\\dongx\\Anaconda3\\lib\\site-packages\\sklearn\\metrics\\classification.py:1137: UndefinedMetricWarning: F-score is ill-defined and being set to 0.0 in labels with no true samples.\n",
      "  'recall', 'true', average, warn_for)\n"
     ]
    }
   ],
   "source": [
    "s_train, s_test, y_train, y_test = train_test_split(s, y, test_size=0.2)\n",
    "vectorizer = CountVectorizer(min_df=1, max_features= 1000, stop_words = 'english', ngram_range = (1,1))\n",
    "X_train = vectorizer.fit_transform(s_train).toarray()\n",
    "print(X_train.shape, len(y_train))\n",
    "v = vectorizer.vocabulary_\n",
    "# print(v)\n",
    "cv_test = CountVectorizer(vocabulary = v)\n",
    "X_test = cv_test.fit_transform(s_test).toarray()\n",
    "# voc_rank = X_test.argsort()\n",
    "# print(voc_rank)\n",
    "clf = MultinomialNB().fit(X_train, y_train)\n",
    "y_pred = clf.predict(X_test)\n",
    "# print(y_train)\n",
    "# print(y_pred)\n",
    "accuracy = metrics.accuracy_score(y_test, y_pred)\n",
    "precision = metrics.precision_score(y_test, y_pred, average='macro')\n",
    "recall = metrics.recall_score(y_test, y_pred, average='macro')\n",
    "f1 = metrics.f1_score(y_test, y_pred, average='weighted')\n",
    "print(accuracy, precision, recall, f1)"
   ]
  },
  {
   "cell_type": "code",
   "execution_count": 4,
   "metadata": {},
   "outputs": [
    {
     "name": "stdout",
     "output_type": "stream",
     "text": [
      "(345, 3000) 345\n",
      "1.0 1.0 1.0 1.0\n"
     ]
    }
   ],
   "source": [
    "s_train, s_test, y_train, y_test = s, s_test, y, y_test\n",
    "vectorizer = TfidfVectorizer(max_features= 3000, stop_words = 'english', ngram_range = (1,1))\n",
    "X_train = vectorizer.fit_transform(s_train).toarray()\n",
    "print(X_train.shape, len(y_train))\n",
    "v = vectorizer.vocabulary_\n",
    "# print(v)\n",
    "cv_test = CountVectorizer(vocabulary = v)\n",
    "X_test = cv_test.fit_transform(s_test).toarray()\n",
    "# voc_rank = X_test.argsort()\n",
    "# print(voc_rank)\n",
    "clf = SVC(kernel='rbf').fit(X_train, y_train)\n",
    "y_pred = clf.predict(X_test)\n",
    "# print(y_train)\n",
    "# print(y_pred)\n",
    "accuracy = metrics.accuracy_score(y_test, y_pred)\n",
    "precision = metrics.precision_score(y_test, y_pred, average='macro')\n",
    "recall = metrics.recall_score(y_test, y_pred, average='macro')\n",
    "f1 = metrics.f1_score(y_test, y_pred, average='weighted')\n",
    "print(accuracy, precision, recall, f1)"
   ]
  },
  {
   "cell_type": "code",
   "execution_count": null,
   "metadata": {},
   "outputs": [],
   "source": []
  }
 ],
 "metadata": {
  "kernelspec": {
   "display_name": "Python 3",
   "language": "python",
   "name": "python3"
  },
  "language_info": {
   "codemirror_mode": {
    "name": "ipython",
    "version": 3
   },
   "file_extension": ".py",
   "mimetype": "text/x-python",
   "name": "python",
   "nbconvert_exporter": "python",
   "pygments_lexer": "ipython3",
   "version": "3.6.5"
  }
 },
 "nbformat": 4,
 "nbformat_minor": 2
}
