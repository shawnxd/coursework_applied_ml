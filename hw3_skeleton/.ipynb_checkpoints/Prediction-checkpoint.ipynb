{
 "cells": [
  {
   "cell_type": "code",
   "execution_count": 866,
   "metadata": {},
   "outputs": [],
   "source": [
    "import pandas as pd\n",
    "import sklearn\n",
    "from scipy.stats import mode\n",
    "import numpy as np\n",
    "import matplotlib.pyplot as plt\n",
    "from sklearn.ensemble import AdaBoostClassifier\n",
    "from sklearn.tree import DecisionTreeClassifier\n",
    "from sklearn.datasets import make_gaussian_quantiles\n",
    "from sklearn.preprocessing import StandardScaler\n",
    "from sklearn import cross_validation\n",
    "from sklearn.model_selection import cross_val_score\n",
    "from sklearn import preprocessing\n",
    "from sklearn.svm import SVC\n",
    "from sklearn.linear_model import LogisticRegression\n",
    "from sklearn.ensemble import RandomForestClassifier"
   ]
  },
  {
   "cell_type": "code",
   "execution_count": 828,
   "metadata": {},
   "outputs": [],
   "source": [
    "data = pd.read_csv(\"challengeTrainLabeled.csv\")"
   ]
  },
  {
   "cell_type": "code",
   "execution_count": 829,
   "metadata": {},
   "outputs": [
    {
     "name": "stdout",
     "output_type": "stream",
     "text": [
      "<class 'pandas.core.frame.DataFrame'>\n"
     ]
    }
   ],
   "source": [
    "print(type(data))"
   ]
  },
  {
   "cell_type": "code",
   "execution_count": 830,
   "metadata": {},
   "outputs": [
    {
     "data": {
      "text/plain": [
       "\"\\n'Exam_period','Country','US_citizen','Language','Self_respond_sp',\\n'Self_respond2_sp','Interview_lang','Self_respond_fam','Self_respond2_fam','Num_household','Num_family','Num_young_child',\\n'Num_adolescent','Num_elder','HH_gender','HH_age','HH_country','HH_education','HH_marital','Income_household','Income_family',\\n'Income_ratio',\\n\""
      ]
     },
     "execution_count": 830,
     "metadata": {},
     "output_type": "execute_result"
    }
   ],
   "source": [
    "data = data.drop(['Unnamed: 0','patient_id','Release_Cycle','Q11','Status','Race1','Q5','Q6','Q7','Q8','Q9','pregnancy_test','last_alcohol'], axis=1)\n",
    "'''\n",
    "'Exam_period','Country','US_citizen','Language','Self_respond_sp',\n",
    "'Self_respond2_sp','Interview_lang','Self_respond_fam','Self_respond2_fam','Num_household','Num_family','Num_young_child',\n",
    "'Num_adolescent','Num_elder','HH_gender','HH_age','HH_country','HH_education','HH_marital','Income_household','Income_family',\n",
    "'Income_ratio',\n",
    "'''"
   ]
  },
  {
   "cell_type": "code",
   "execution_count": 831,
   "metadata": {},
   "outputs": [],
   "source": [
    "# data = data.dropna(how='any',subset=['hepatitis_A_test','hepatitis_D_test','hepatitis_B_test','calcium_level','glucose_level','iron_level','virusE_infect_status'])"
   ]
  },
  {
   "cell_type": "code",
   "execution_count": 832,
   "metadata": {},
   "outputs": [],
   "source": [
    "# data.dtypes"
   ]
  },
  {
   "cell_type": "code",
   "execution_count": 833,
   "metadata": {},
   "outputs": [],
   "source": [
    "# data.iloc[:,20:40]"
   ]
  },
  {
   "cell_type": "code",
   "execution_count": 834,
   "metadata": {},
   "outputs": [],
   "source": [
    "data = data[data['Age']!=0]\n",
    "data = data.replace(' ', np.nan, regex=True)\n",
    "data['Q27'] = data['Q27'].astype('float64')\n",
    "# data.dtypes"
   ]
  },
  {
   "cell_type": "code",
   "execution_count": 835,
   "metadata": {},
   "outputs": [],
   "source": [
    "'''\n",
    "for column in list(data.columns[data.isnull().sum() > 0]):\n",
    "    # mode_val = data[column].mode()[0]\n",
    "    data[column].fillna(-1, inplace=True)\n",
    "'''\n",
    "for column in list(data.columns[data.isnull().sum() > 0]):\n",
    "    mode_val = data[column].mode()[0]\n",
    "    data[column].fillna(mode_val, inplace=True)"
   ]
  },
  {
   "cell_type": "code",
   "execution_count": 836,
   "metadata": {},
   "outputs": [],
   "source": [
    "# data.iloc[:,0:20]"
   ]
  },
  {
   "cell_type": "code",
   "execution_count": 837,
   "metadata": {},
   "outputs": [],
   "source": [
    "data_matrix = data.values"
   ]
  },
  {
   "cell_type": "code",
   "execution_count": 838,
   "metadata": {},
   "outputs": [],
   "source": [
    "X = data_matrix[:,:-1]\n",
    "y = data_matrix[:,-1]\n",
    "# print(X)\n",
    "X = preprocessing.scale(X)"
   ]
  },
  {
   "cell_type": "code",
   "execution_count": 872,
   "metadata": {},
   "outputs": [
    {
     "name": "stdout",
     "output_type": "stream",
     "text": [
      "Score: 0.8600049459727286\n"
     ]
    }
   ],
   "source": [
    "bdt = AdaBoostClassifier(DecisionTreeClassifier(max_depth=4, min_samples_split=20, min_samples_leaf=5),\n",
    "                         algorithm=\"SAMME\", n_estimators=200, learning_rate=0.8)\n",
    "bdt.fit(X_train, y_train)\n",
    "# print(\"Score:\", bdt.score(X_test,y_test))\n",
    "scores = cross_val_score(bdt, X, y, cv=5)\n",
    "print(\"Score:\", scores.mean())"
   ]
  },
  {
   "cell_type": "code",
   "execution_count": 851,
   "metadata": {},
   "outputs": [
    {
     "name": "stdout",
     "output_type": "stream",
     "text": [
      "Score: 0.8140902138385149\n"
     ]
    }
   ],
   "source": [
    "clf = DecisionTreeClassifier(max_depth=2)\n",
    "clf = clf.fit(X, y)\n",
    "scores = cross_val_score(clf, X, y, cv=5)\n",
    "print(\"Score:\", scores.mean())"
   ]
  },
  {
   "cell_type": "code",
   "execution_count": 852,
   "metadata": {},
   "outputs": [
    {
     "name": "stdout",
     "output_type": "stream",
     "text": [
      "Score: 0.7967091680029007\n"
     ]
    }
   ],
   "source": [
    "clf_1 = SVC(C=1.0, kernel='rbf', gamma=0.1)\n",
    "clf_1.fit(X, y)\n",
    "scores = cross_val_score(clf_1, X, y, cv=5)\n",
    "print(\"Score:\", scores.mean())"
   ]
  },
  {
   "cell_type": "code",
   "execution_count": 853,
   "metadata": {},
   "outputs": [
    {
     "name": "stdout",
     "output_type": "stream",
     "text": [
      "Score: 0.800822333971088\n"
     ]
    }
   ],
   "source": [
    "clf_1 = SVC(C=2.0, kernel='rbf', gamma=0.1)\n",
    "clf_1.fit(X, y)\n",
    "scores = cross_val_score(clf_1, X, y, cv=5)\n",
    "print(\"Score:\", scores.mean())"
   ]
  },
  {
   "cell_type": "code",
   "execution_count": 854,
   "metadata": {},
   "outputs": [
    {
     "name": "stdout",
     "output_type": "stream",
     "text": [
      "Score: 0.7300963320595841\n"
     ]
    }
   ],
   "source": [
    "clf_1 = SVC(C=1.0, kernel='sigmoid', gamma=0.1)\n",
    "clf_1.fit(X, y)\n",
    "scores = cross_val_score(clf_1, X, y, cv=5)\n",
    "print(\"Score:\", scores.mean())"
   ]
  },
  {
   "cell_type": "code",
   "execution_count": 855,
   "metadata": {},
   "outputs": [
    {
     "name": "stdout",
     "output_type": "stream",
     "text": [
      "Score: 0.7278409860967122\n"
     ]
    }
   ],
   "source": [
    "clf_1 = SVC(C=2.0, kernel='sigmoid', gamma=0.1)\n",
    "clf_1.fit(X, y)\n",
    "scores = cross_val_score(clf_1, X, y, cv=5)\n",
    "print(\"Score:\", scores.mean())"
   ]
  },
  {
   "cell_type": "code",
   "execution_count": 862,
   "metadata": {},
   "outputs": [
    {
     "name": "stdout",
     "output_type": "stream",
     "text": [
      "Score: 0.8170101858876085\n"
     ]
    }
   ],
   "source": [
    "clf_1 = LogisticRegression(penalty='l1')\n",
    "clf_1.fit(X, y)\n",
    "scores = cross_val_score(clf_1, X, y, cv=5)\n",
    "print(\"Score:\", scores.mean())"
   ]
  },
  {
   "cell_type": "code",
   "execution_count": 863,
   "metadata": {},
   "outputs": [
    {
     "name": "stdout",
     "output_type": "stream",
     "text": [
      "Score: 0.8171430759022\n"
     ]
    }
   ],
   "source": [
    "clf_1 = LogisticRegression(penalty='l2')\n",
    "clf_1.fit(X, y)\n",
    "scores = cross_val_score(clf_1, X, y, cv=5)\n",
    "print(\"Score:\", scores.mean())"
   ]
  },
  {
   "cell_type": "code",
   "execution_count": 868,
   "metadata": {},
   "outputs": [
    {
     "name": "stdout",
     "output_type": "stream",
     "text": [
      "Score: 0.7915340260041996\n"
     ]
    }
   ],
   "source": [
    "clf_1 = RandomForestClassifier(n_estimators=100, max_depth=2, random_state=0)\n",
    "clf_1.fit(X, y)\n",
    "scores = cross_val_score(clf_1, X, y, cv=5)\n",
    "print(\"Score:\", scores.mean())"
   ]
  },
  {
   "cell_type": "code",
   "execution_count": 869,
   "metadata": {},
   "outputs": [
    {
     "name": "stdout",
     "output_type": "stream",
     "text": [
      "Score: 0.8113046279167598\n"
     ]
    }
   ],
   "source": [
    "clf_1 = RandomForestClassifier(n_estimators=100, max_depth=4, random_state=0)\n",
    "clf_1.fit(X, y)\n",
    "scores = cross_val_score(clf_1, X, y, cv=5)\n",
    "print(\"Score:\", scores.mean())"
   ]
  },
  {
   "cell_type": "code",
   "execution_count": 878,
   "metadata": {},
   "outputs": [
    {
     "name": "stdout",
     "output_type": "stream",
     "text": [
      "[[ 0.99949071  1.45537232 -0.14153495 ... -1.57583362  0.05537073\n",
      "  -0.96103838]\n",
      " [ 0.99949071  1.45537232 -0.76308553 ... -0.63488225  0.05537073\n",
      "   1.21415984]\n",
      " [ 0.99949071  1.64708971 -1.3846361  ...  0.56564191  0.05537073\n",
      "  -1.58252358]\n",
      " ...\n",
      " [-1.00050955 -1.22867114 -0.76308553 ... -0.24552307  0.05537073\n",
      "  -0.02881057]\n",
      " [ 0.99949071 -1.26701462 -1.3846361  ... -0.24552307  0.05537073\n",
      "  -0.02881057]\n",
      " [ 0.99949071 -1.07529723 -0.14153495 ... -0.24552307  0.05537073\n",
      "   0.90341723]]\n"
     ]
    }
   ],
   "source": [
    "data_pre = pd.read_csv(\"challengeTestUnlabeled.csv\")\n",
    "data1 = data_pre.drop(['Unnamed: 0','patient_id','Release_Cycle','Q11','Status','Race1','Q5','Q6','Q7','Q8','Q9','pregnancy_test','last_alcohol'], axis=1)\n",
    "data1 = data1.replace(' ', np.nan, regex=True)\n",
    "data1['Q27'] = data1['Q27'].astype('float64')\n",
    "for column in list(data1.columns[data1.isnull().sum() > 0]):\n",
    "    mode_val = data1[column].mode()[0]\n",
    "    data1[column].fillna(mode_val, inplace=True)\n",
    "X_pre = data1.values\n",
    "X_pre = preprocessing.scale(X_pre)\n",
    "print(X_pre)"
   ]
  },
  {
   "cell_type": "code",
   "execution_count": 879,
   "metadata": {},
   "outputs": [
    {
     "name": "stdout",
     "output_type": "stream",
     "text": [
      "[0. 0. 0. ... 0. 0. 0.]\n"
     ]
    }
   ],
   "source": [
    "bdt = AdaBoostClassifier(DecisionTreeClassifier(max_depth=4, min_samples_split=20, min_samples_leaf=5),\n",
    "                         algorithm=\"SAMME\", n_estimators=200, learning_rate=0.8)\n",
    "bdt.fit(X_train, y_train)\n",
    "y_pre = bdt.predict(X_pre)\n",
    "print(y_pre)\n",
    "fileObject = open('predictions.csv', 'w')\n",
    "for ip in y_pre:\n",
    "    fileObject.write(str(ip))\n",
    "    fileObject.write('\\n')\n",
    "fileObject.close()"
   ]
  },
  {
   "cell_type": "code",
   "execution_count": null,
   "metadata": {},
   "outputs": [],
   "source": []
  }
 ],
 "metadata": {
  "kernelspec": {
   "display_name": "Python 3",
   "language": "python",
   "name": "python3"
  },
  "language_info": {
   "codemirror_mode": {
    "name": "ipython",
    "version": 3
   },
   "file_extension": ".py",
   "mimetype": "text/x-python",
   "name": "python",
   "nbconvert_exporter": "python",
   "pygments_lexer": "ipython3",
   "version": "3.6.5"
  }
 },
 "nbformat": 4,
 "nbformat_minor": 2
}
