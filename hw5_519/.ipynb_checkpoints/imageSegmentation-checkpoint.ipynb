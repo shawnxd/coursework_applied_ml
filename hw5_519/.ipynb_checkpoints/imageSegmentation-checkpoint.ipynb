{
 "cells": [
  {
   "cell_type": "code",
   "execution_count": 1,
   "metadata": {},
   "outputs": [],
   "source": [
    "import sys\n",
    "k, inputImageFilename, outputImageFilename = sys.argv[1], sys.argv[2], sys.argv[3]\n",
    "k = int(k)"
   ]
  },
  {
   "cell_type": "code",
   "execution_count": null,
   "metadata": {},
   "outputs": [],
   "source": [
    "import matplotlib.pyplot as plt\n",
    "import pandas as pd\n",
    "import numpy as np\n",
    "# import random\n",
    "# from sklearn.cluster import KMeans\n",
    "# from sklearn import preprocessing\n",
    "# from sklearn.decomposition import PCA, NMF"
   ]
  },
  {
   "cell_type": "code",
   "execution_count": 19,
   "metadata": {},
   "outputs": [],
   "source": [
    "# Importing and Reshaping the Data\n",
    "inputImageFilename = 'image_2.jpg'\n",
    "pic_3D_arr = plt.imread(inputImageFilename).astype(int)\n",
    "# print(pic_3D_arr.shape)\n",
    "# k = 3"
   ]
  },
  {
   "cell_type": "code",
   "execution_count": 20,
   "metadata": {},
   "outputs": [],
   "source": [
    "def standardize(X):\n",
    "    sd = X.std(axis=0)\n",
    "    mean_v = X.mean(axis=0)\n",
    "    X_std = np.where(sd!=0, (X-mean_v)/sd, 0)\n",
    "    return X_std"
   ]
  },
  {
   "cell_type": "code",
   "execution_count": 21,
   "metadata": {},
   "outputs": [],
   "source": [
    "def kMeans(X, k):\n",
    "    m = int(X.shape[0])\n",
    "    cluster = np.mat(np.zeros((m, 2)))\n",
    "    n = int(X.shape[1])\n",
    "    centroids = np.mat(np.zeros((k, n)))\n",
    "    for j in range(n):\n",
    "        min_v = min(X[:, j])\n",
    "        max_v = max(X[:, j])\n",
    "        range_v = max_v - min_v\n",
    "        centroids[:, j] = min_v + range_v * np.random.rand(k, 1)\n",
    "    cluster_change = True\n",
    "    while cluster_change:\n",
    "        for i in range(m):\n",
    "            minDist = np.inf\n",
    "            minIndex = -1\n",
    "            for j in range(k):\n",
    "                distJI = np.sqrt(np.sum(np.power(centroids[j, :] - X[i, :], 2)))\n",
    "#                 print(distJI)\n",
    "#                 print(minDist)\n",
    "                if distJI < minDist:\n",
    "                    minDist = distJI\n",
    "                    minIndex = j\n",
    "            if cluster[i, 0] != minIndex:\n",
    "                clusterChanged = True\n",
    "            cluster[i, :] = minIndex, minDist ** 2\n",
    "        # print(centroids)\n",
    "        for cent in range(k):\n",
    "            ptsInClust = X[np.nonzero(cluster[:, 0] == cent)[0]]\n",
    "            if ptsInClust.shape[0] == 0:\n",
    "                for j in range(n):\n",
    "                    min_v = min(X[:, j])\n",
    "                    max_v = max(X[:, j])\n",
    "                    range_v = max_v - min_v\n",
    "                    centroids[:, j] = min_v + range_v * np.random.rand(k, 1)\n",
    "            else:\n",
    "                centroids[cent, :] = np.mean(ptsInClust, axis=0)\n",
    "        cluster_change = False\n",
    "    cluster_num = []\n",
    "    for i in cluster:\n",
    "#         print(i)\n",
    "        cluster_num.append(int(i.tolist()[0][0]))\n",
    "    return centroids, cluster_num"
   ]
  },
  {
   "cell_type": "code",
   "execution_count": 22,
   "metadata": {},
   "outputs": [],
   "source": [
    "pic_5 = []\n",
    "# print(len(pic_3D_arr))\n",
    "for i in range(len(pic_3D_arr)):\n",
    "    for j in range(len(pic_3D_arr[0])):\n",
    "        pic_5.append([pic_3D_arr[i][j][0],pic_3D_arr[i][j][1],pic_3D_arr[i][j][2],i,j])\n",
    "pic_5_arr = np.array(pic_5)\n",
    "pic_5_fin = pic_5_arr\n",
    "# print(pic_5_arr)"
   ]
  },
  {
   "cell_type": "code",
   "execution_count": 23,
   "metadata": {},
   "outputs": [],
   "source": [
    "pic_s_std = standardize(pic_5_arr)\n",
    "sd = pic_5_arr.std(axis=0)\n",
    "mean_v = pic_5_arr.mean(axis=0)"
   ]
  },
  {
   "cell_type": "code",
   "execution_count": null,
   "metadata": {},
   "outputs": [],
   "source": [
    "centroids, cluster_lst = kMeans(pic_s_std, k)\n",
    "# print(centroids)\n",
    "# print(cluster)"
   ]
  },
  {
   "cell_type": "code",
   "execution_count": null,
   "metadata": {},
   "outputs": [],
   "source": [
    "for i in range(len(pic_5_fin)):\n",
    "#     print(cluster_lst[i])\n",
    "#     print(centroids[cluster_lst[i]].tolist()[0][0])\n",
    "    pic_5_fin[i][0] = centroids[cluster_lst[i]].tolist()[0][0]\n",
    "    pic_5_fin[i][1] = centroids[cluster_lst[i]].tolist()[0][1]\n",
    "    pic_5_fin[i][2] = centroids[cluster_lst[i]].tolist()[0][2]\n",
    "# print(pic_5_fin)\n",
    "pic_5_fin = np.where(sd!=0, pic_5_fin * sd + mean_v, 0)\n",
    "for i in range(len(pic_5_fin)):\n",
    "    x = int(pic_5_arr[i].tolist()[3])\n",
    "    y = int(pic_5_arr[i].tolist()[4])\n",
    "#     print(x)\n",
    "#     print(y)\n",
    "    pic_3D_arr[x][y][0] = pic_5_fin[i][0]\n",
    "    pic_3D_arr[x][y][1] = pic_5_fin[i][1]\n",
    "    pic_3D_arr[x][y][2] = pic_5_fin[i][2]\n",
    "# print(pic_3D_arr)\n",
    "\n",
    "img = Image.fromarray(np.uint8(pic_5_fin))\n",
    "img.save(outputImageFilename)"
   ]
  },
  {
   "cell_type": "code",
   "execution_count": null,
   "metadata": {},
   "outputs": [],
   "source": [
    "# plt.imshow(pic_3D_arr)"
   ]
  },
  {
   "cell_type": "code",
   "execution_count": null,
   "metadata": {},
   "outputs": [],
   "source": []
  }
 ],
 "metadata": {
  "kernelspec": {
   "display_name": "Python 3",
   "language": "python",
   "name": "python3"
  },
  "language_info": {
   "codemirror_mode": {
    "name": "ipython",
    "version": 3
   },
   "file_extension": ".py",
   "mimetype": "text/x-python",
   "name": "python",
   "nbconvert_exporter": "python",
   "pygments_lexer": "ipython3",
   "version": "3.6.5"
  }
 },
 "nbformat": 4,
 "nbformat_minor": 2
}
