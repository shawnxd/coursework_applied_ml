{
 "cells": [
  {
   "cell_type": "code",
   "execution_count": 1,
   "metadata": {},
   "outputs": [
    {
     "ename": "ModuleNotFoundError",
     "evalue": "No module named 'gensim'",
     "output_type": "error",
     "traceback": [
      "\u001b[1;31m---------------------------------------------------------------------------\u001b[0m",
      "\u001b[1;31mModuleNotFoundError\u001b[0m                       Traceback (most recent call last)",
      "\u001b[1;32m<ipython-input-1-5428ac1e0314>\u001b[0m in \u001b[0;36m<module>\u001b[1;34m()\u001b[0m\n\u001b[0;32m      6\u001b[0m \u001b[1;32mimport\u001b[0m \u001b[0mpprint\u001b[0m\u001b[1;33m\u001b[0m\u001b[0m\n\u001b[0;32m      7\u001b[0m \u001b[1;32mimport\u001b[0m \u001b[0mstring\u001b[0m\u001b[1;33m\u001b[0m\u001b[0m\n\u001b[1;32m----> 8\u001b[1;33m \u001b[1;32mimport\u001b[0m \u001b[0mgensim\u001b[0m\u001b[1;33m\u001b[0m\u001b[0m\n\u001b[0m\u001b[0;32m      9\u001b[0m \u001b[1;32mimport\u001b[0m \u001b[0mgensim\u001b[0m\u001b[1;33m.\u001b[0m\u001b[0mcorpora\u001b[0m \u001b[1;32mas\u001b[0m \u001b[0mcorpora\u001b[0m\u001b[1;33m\u001b[0m\u001b[0m\n\u001b[0;32m     10\u001b[0m \u001b[1;32mfrom\u001b[0m \u001b[0mgensim\u001b[0m\u001b[1;33m.\u001b[0m\u001b[0mmodels\u001b[0m \u001b[1;32mimport\u001b[0m \u001b[0mCoherenceModel\u001b[0m\u001b[1;33m\u001b[0m\u001b[0m\n",
      "\u001b[1;31mModuleNotFoundError\u001b[0m: No module named 'gensim'"
     ]
    }
   ],
   "source": [
    "import pandas as pd\n",
    "import nltk\n",
    "from nltk import word_tokenize\n",
    "from nltk.tokenize import sent_tokenize\n",
    "import re\n",
    "import pprint\n",
    "import string\n",
    "import gensim\n",
    "import gensim.corpora as corpora\n",
    "from gensim.models import CoherenceModel\n",
    "from gensim.utils import simple_preprocess\n",
    "from gensim.parsing.preprocessing import STOPWORDS\n",
    "from nltk.stem import WordNetLemmatizer, SnowballStemmer\n",
    "from nltk.stem import PorterStemmer\n",
    "import numpy as np\n",
    "np.random.seed(2018)\n",
    "from nltk.corpus import stopwords\n",
    "from sklearn.feature_extraction.text import CountVectorizer\n",
    "import os\n",
    "from sklearn.metrics import accuracy_score\n",
    "from sklearn.metrics import precision_score\n",
    "from sklearn.metrics import recall_score\n",
    "from sklearn.metrics import confusion_matrix\n",
    "from sklearn.metrics import f1_score\n",
    "from sklearn.model_selection import KFold\n",
    "from sklearn.naive_bayes import MultinomialNB\n",
    "from sklearn.feature_extraction.text import TfidfVectorizer\n",
    "from sklearn.metrics.pairwise import cosine_similarity\n",
    "from sklearn.naive_bayes import GaussianNB\n",
    "from sklearn import svm\n",
    "from sklearn.linear_model import LogisticRegression\n",
    "import string"
   ]
  },
  {
   "cell_type": "code",
   "execution_count": 11,
   "metadata": {},
   "outputs": [],
   "source": [
    "def read_file(path,filename):\n",
    "    file = open(path+\"/\"+filename)\n",
    "    text = word_tokenize(file.read())\n",
    "    articles = []\n",
    "    article = \"\"\n",
    "    count = 0\n",
    "    for msg in text:\n",
    "        if len(msg) >4 and msg[:4] == '.LS.':\n",
    "            if count != 0:\n",
    "                articles.append(article.strip())\n",
    "            else:\n",
    "                count = 1\n",
    "            article = \"\"\n",
    "            \n",
    "        else:\n",
    "            if msg in string.punctuation:\n",
    "                article += msg\n",
    "            else:\n",
    "                article += \" \"\n",
    "                msg = wordnet_lemmatizer.lemmatize(msg.lower())\n",
    "                article += msg\n",
    "            \n",
    "    articles.append(article.strip())    \n",
    "    return articles"
   ]
  },
  {
   "cell_type": "code",
   "execution_count": 12,
   "metadata": {},
   "outputs": [
    {
     "ename": "NameError",
     "evalue": "name 'wordnet_lemmatizer' is not defined",
     "output_type": "error",
     "traceback": [
      "\u001b[1;31m---------------------------------------------------------------------------\u001b[0m",
      "\u001b[1;31mNameError\u001b[0m                                 Traceback (most recent call last)",
      "\u001b[1;32m<ipython-input-12-495d80fd8a15>\u001b[0m in \u001b[0;36m<module>\u001b[1;34m()\u001b[0m\n\u001b[1;32m----> 1\u001b[1;33m \u001b[0marticles_4\u001b[0m \u001b[1;33m=\u001b[0m \u001b[0mread_file\u001b[0m\u001b[1;33m(\u001b[0m\u001b[1;34m'train_PURE'\u001b[0m\u001b[1;33m,\u001b[0m\u001b[1;34m'NS_LS_4_PURE.txt'\u001b[0m\u001b[1;33m)\u001b[0m\u001b[1;33m\u001b[0m\u001b[0m\n\u001b[0m",
      "\u001b[1;32m<ipython-input-11-090be7ba3470>\u001b[0m in \u001b[0;36mread_file\u001b[1;34m(path, filename)\u001b[0m\n\u001b[0;32m     18\u001b[0m             \u001b[1;32melse\u001b[0m\u001b[1;33m:\u001b[0m\u001b[1;33m\u001b[0m\u001b[0m\n\u001b[0;32m     19\u001b[0m                 \u001b[0marticle\u001b[0m \u001b[1;33m+=\u001b[0m \u001b[1;34m\" \"\u001b[0m\u001b[1;33m\u001b[0m\u001b[0m\n\u001b[1;32m---> 20\u001b[1;33m                 \u001b[0mmsg\u001b[0m \u001b[1;33m=\u001b[0m \u001b[0mwordnet_lemmatizer\u001b[0m\u001b[1;33m.\u001b[0m\u001b[0mlemmatize\u001b[0m\u001b[1;33m(\u001b[0m\u001b[0mmsg\u001b[0m\u001b[1;33m.\u001b[0m\u001b[0mlower\u001b[0m\u001b[1;33m(\u001b[0m\u001b[1;33m)\u001b[0m\u001b[1;33m)\u001b[0m\u001b[1;33m\u001b[0m\u001b[0m\n\u001b[0m\u001b[0;32m     21\u001b[0m                 \u001b[0marticle\u001b[0m \u001b[1;33m+=\u001b[0m \u001b[0mmsg\u001b[0m\u001b[1;33m\u001b[0m\u001b[0m\n\u001b[0;32m     22\u001b[0m \u001b[1;33m\u001b[0m\u001b[0m\n",
      "\u001b[1;31mNameError\u001b[0m: name 'wordnet_lemmatizer' is not defined"
     ]
    }
   ],
   "source": [
    "articles_4 = read_file('train_PURE','NS_LS_4_PURE.txt')"
   ]
  },
  {
   "cell_type": "code",
   "execution_count": null,
   "metadata": {},
   "outputs": [],
   "source": [
    "articles_6 = read_file('/home/jovyan/work/CIS519/FinalProject/train_PURE','NS_LS_6_PURE.txt')"
   ]
  },
  {
   "cell_type": "code",
   "execution_count": null,
   "metadata": {},
   "outputs": [],
   "source": [
    "articles_8 = read_file('/home/jovyan/work/CIS519/FinalProject/train_PURE','NS_LS_8_PURE.txt')"
   ]
  },
  {
   "cell_type": "code",
   "execution_count": null,
   "metadata": {},
   "outputs": [],
   "source": [
    "articles_12 = read_file('/home/jovyan/work/CIS519/FinalProject/train_PURE','NS_LS_12_PURE.txt')"
   ]
  },
  {
   "cell_type": "code",
   "execution_count": null,
   "metadata": {},
   "outputs": [],
   "source": [
    "articles_16 = read_file('/home/jovyan/work/CIS519/FinalProject/train_PURE','SA_LS_PURE.txt')"
   ]
  },
  {
   "cell_type": "code",
   "execution_count": null,
   "metadata": {},
   "outputs": [],
   "source": [
    "def prepare_dataset(list_articles,list_lables):\n",
    "    X_train = []\n",
    "    y_train = []\n",
    "    college_count = 0\n",
    "    for x in list_articles:\n",
    "        print(len(x))\n",
    "    for i in range(300):\n",
    "        \n",
    "        #append grade 4\n",
    "        X_train.append(list_articles[0][i])\n",
    "        y_train.append(list_lables[0])\n",
    "        #append grade 6\n",
    "        X_train.append(list_articles[1][i])\n",
    "        y_train.append(list_lables[1])\n",
    "        #append grade 8\n",
    "        X_train.append(list_articles[2][i])\n",
    "        y_train.append(list_lables[2])\n",
    "        #append grade 12\n",
    "        X_train.append(list_articles[3][i])\n",
    "        y_train.append(list_lables[3])\n",
    "        if ((i+1) // 3) != 0 and college_count < 200:\n",
    "            #append college\n",
    "            X_train.append(list_articles[4][college_count])\n",
    "            y_train.append(list_lables[4])\n",
    "            college_count += 1\n",
    "    n = len(y_train)\n",
    "    print(n)\n",
    "    y_train = np.array(y_train)\n",
    "    y_train = y_train.reshape((n,))\n",
    "    return (np.asarray(X_train),y_train)"
   ]
  },
  {
   "cell_type": "code",
   "execution_count": null,
   "metadata": {},
   "outputs": [],
   "source": [
    "list_articles = [articles_4,articles_6,articles_8,articles_12,articles_16]\n",
    "list_lables = [4,6,8,12,16]"
   ]
  },
  {
   "cell_type": "code",
   "execution_count": null,
   "metadata": {},
   "outputs": [],
   "source": [
    "X_train, y_train = prepare_dataset(list_articles,list_lables)"
   ]
  },
  {
   "cell_type": "code",
   "execution_count": null,
   "metadata": {},
   "outputs": [],
   "source": [
    "stop_words = stopwords.words('english')\n",
    "wordnet_lemmatizer = WordNetLemmatizer()"
   ]
  },
  {
   "cell_type": "code",
   "execution_count": null,
   "metadata": {},
   "outputs": [],
   "source": [
    "from sklearn.metrics.pairwise import cosine_similarity\n",
    "def my_kernel(X, Y):\n",
    "    return cosine_similarity(X,Y)"
   ]
  },
  {
   "cell_type": "code",
   "execution_count": null,
   "metadata": {},
   "outputs": [],
   "source": [
    "def read_document_null(file):\n",
    "    text = file.read()\n",
    "    sentences = sent_tokenize(text)\n",
    "    total_string = \"\"\n",
    "    for sent in sentences:\n",
    "        words = word_tokenize(sent)\n",
    "        string = \"\" \n",
    "        for word in words:\n",
    "            if re.search('^[a-zA-Z]+$', word):\n",
    "                word = wordnet_lemmatizer.lemmatize(word.lower())\n",
    "                if word not in stop_words:\n",
    "                    string += word\n",
    "                    string += \" \"\n",
    "        string = string.strip()\n",
    "        if len(string)> 0:\n",
    "            total_string += string + \" \"            \n",
    "    return total_string.strip()"
   ]
  },
  {
   "cell_type": "code",
   "execution_count": null,
   "metadata": {},
   "outputs": [],
   "source": [
    "def cross_validation(k_fold,clf,train_X,train_y,max_feature,ngram_range):\n",
    "    accuracy_list = []\n",
    "    precision_list = []\n",
    "    recall_list = []\n",
    "    for train, test in k_fold.split(train_X):\n",
    "        vect = TfidfVectorizer(max_features = max_feature,stop_words = stop_words)\n",
    "        #vect = TfidfVectorizer(stop_words = stop_words)\n",
    "        train_X_vec = vect.fit_transform(train_X[train]).toarray()\n",
    "        clf.fit(train_X_vec, train_y[train])\n",
    "        newVec = TfidfVectorizer(vocabulary=vect.vocabulary_,max_features = max_feature,ngram_range = ngram_range,stop_words = stop_words)\n",
    "        #newVec = TfidfVectorizer(vocabulary=vect.vocabulary_,stop_words = stop_words)\n",
    "        test_X_vec = newVec.fit_transform(train_X[test]).toarray()\n",
    "        y_pred = clf.predict(test_X_vec)\n",
    "        y_true = train_y[test]\n",
    "        accuracy_list.append(accuracy_score(y_true, y_pred))\n",
    "        precision_list.append(precision_score(y_true, y_pred,y_pred,average = 'macro'))\n",
    "        recall_list.append(recall_score(y_true, y_pred,average = 'macro'))\n",
    "    result = []    \n",
    "    for score in [accuracy_list,precision_list,recall_list]:\n",
    "        result.append(np.mean(score))\n",
    "    return result"
   ]
  },
  {
   "cell_type": "code",
   "execution_count": null,
   "metadata": {},
   "outputs": [],
   "source": [
    "def train_models(train_X, train_y,max_feature,ngram_range):\n",
    "    k_fold = KFold(n_splits=5,shuffle = True)\n",
    "    results = []\n",
    "    models = []\n",
    "    models.append(svm.SVC(C=0.01, kernel=my_kernel))\n",
    "    models.append(GaussianNB())\n",
    "    models.append(LogisticRegression(random_state=0, multi_class='multinomial',solver = 'saga'))\n",
    "    models_name = ['SVM-cosine','GaussianNB','MLR']\n",
    "    \n",
    "    for i in range(len(models)):\n",
    "        print(i)\n",
    "        lis = cross_validation(k_fold,models[i],train_X, train_y,max_feature,ngram_range)\n",
    "        results.append([models_name[i],lis[0],lis[1],lis[2]])\n",
    "    results_df = pd.DataFrame(results)\n",
    "    results_df.columns = ['MODEL', 'Accuracy','Precision','Recall']\n",
    "    return results_df\n",
    "    "
   ]
  },
  {
   "cell_type": "code",
   "execution_count": null,
   "metadata": {},
   "outputs": [],
   "source": [
    "print()"
   ]
  },
  {
   "cell_type": "code",
   "execution_count": null,
   "metadata": {},
   "outputs": [],
   "source": [
    "#stop_word \n",
    "train_models(X_train, y_train,1000,(1,1))"
   ]
  },
  {
   "cell_type": "code",
   "execution_count": null,
   "metadata": {},
   "outputs": [],
   "source": [
    "#stop_word + lemmatization\n",
    "train_models(X_train, y_train,300,(1,1))"
   ]
  }
 ],
 "metadata": {
  "kernelspec": {
   "display_name": "Python 3",
   "language": "python",
   "name": "python3"
  },
  "language_info": {
   "codemirror_mode": {
    "name": "ipython",
    "version": 3
   },
   "file_extension": ".py",
   "mimetype": "text/x-python",
   "name": "python",
   "nbconvert_exporter": "python",
   "pygments_lexer": "ipython3",
   "version": "3.7.1"
  }
 },
 "nbformat": 4,
 "nbformat_minor": 2
}
